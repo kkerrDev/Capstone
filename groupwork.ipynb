{
 "cells": [
  {
   "cell_type": "markdown",
   "metadata": {},
   "source": [
    "# UIUC Reboot Capstone Project"
   ]
  },
  {
   "cell_type": "markdown",
   "metadata": {},
   "source": [
    "## Overview\n",
    "You work for a regional soft drink distribution center that has access to invoice data from convenience stores (invoices.csv), product data (items.csv), and customer reviews (the files in reviews/).\n",
    "\n",
    "You would like to examine the data for a few features, then plug them into a recommendation engine to see if you can improve sales."
   ]
  },
  {
   "cell_type": "markdown",
   "metadata": {},
   "source": [
    "### Loading Data"
   ]
  },
  {
   "cell_type": "code",
   "execution_count": 55,
   "metadata": {},
   "outputs": [
    {
     "name": "stdout",
     "output_type": "stream",
     "text": [
      "Importing CSV Data:\t\t\t         2\n",
      "      data_code/invoice.csv\n",
      "      data_code/item.csv\n"
     ]
    }
   ],
   "source": [
    "import pandas as pd\n",
    "import glob as glob\n",
    "import zipfile\n",
    "import numpy as np               # to get unique values from list using numpy.unique \n",
    "from datetime import datetime\n",
    "import re\n",
    "import matplotlib.pyplot as plt\n",
    "\n",
    "   \n",
    "print(\"Importing CSV Data:\\t\\t\\t\", end='')\n",
    "\n",
    "# ** need to remember to close zf at end **\n",
    "z = zipfile.ZipFile('data_code.zip') # contains Item & Invoice .csv\n",
    "\n",
    "# get csv files to work with (omits Titanic files irrelevant to the project)\n",
    "zipDataCode = [name for name in z.namelist() if name.endswith('.csv') and name.find(\"titanic\") == -1]\n",
    "print(str(len(zipDataCode)).rjust(10))\n",
    "for csv in zipDataCode: print(\" \"*5, csv)"
   ]
  },
  {
   "cell_type": "markdown",
   "metadata": {},
   "source": [
    "### 1. invoices.csv\n",
    "Table of invoices with various data"
   ]
  },
  {
   "cell_type": "code",
   "execution_count": 58,
   "metadata": {},
   "outputs": [
    {
     "name": "stdout",
     "output_type": "stream",
     "text": [
      "<class 'pandas.core.frame.DataFrame'>\n",
      "RangeIndex: 930508 entries, 0 to 930507\n",
      "Data columns (total 13 columns):\n",
      " #   Column        Non-Null Count   Dtype \n",
      "---  ------        --------------   ----- \n",
      " 0   Invoice_id    930508 non-null  object\n",
      " 1   Date          930508 non-null  object\n",
      " 2   Item_id       930508 non-null  int64 \n",
      " 3   Vendor_id     930508 non-null  int64 \n",
      " 4   Vendor_Name   930508 non-null  object\n",
      " 5   Store_id      930508 non-null  int64 \n",
      " 6   Store_Name    930508 non-null  object\n",
      " 7   Address       930508 non-null  object\n",
      " 8   City_Name     930508 non-null  object\n",
      " 9   Zip_Code      930508 non-null  int64 \n",
      " 10  County_id     930508 non-null  int64 \n",
      " 11  County_Name   930508 non-null  object\n",
      " 12  Bottles_Sold  930508 non-null  int64 \n",
      "dtypes: int64(6), object(7)\n",
      "memory usage: 92.3+ MB\n",
      "None\n",
      "\n",
      "                 count          mean           std      min      25%      50%  \\\n",
      "Item_id       930508.0  46100.761759  42887.410193    101.0  29993.0  41019.0   \n",
      "Vendor_id     930508.0    257.759544    137.428615     10.0    115.0    260.0   \n",
      "Store_id      930508.0   3475.512880    889.217119   2554.0   2623.0   3447.0   \n",
      "Zip_Code      930508.0  52132.305486    823.575059  51101.0  51106.0  52803.0   \n",
      "County_id     930508.0     87.817790      7.308914     82.0     82.0     82.0   \n",
      "Bottles_Sold  930508.0      9.875647     22.489171      0.0      2.0      6.0   \n",
      "\n",
      "                  75%       max  \n",
      "Item_id       64571.0  996026.0  \n",
      "Vendor_id       380.0     987.0  \n",
      "Store_id       4076.0    9922.0  \n",
      "Zip_Code      52806.0   52807.0  \n",
      "County_id        97.0      97.0  \n",
      "Bottles_Sold     12.0    2160.0  \n",
      "\n",
      "\n",
      "        Invoice_id        Date  Item_id  Vendor_id        Vendor_Name  \\\n",
      "0  INV-00013400001  2016-08-29    35918        297      Katou Company   \n",
      "1  INV-00013400002  2016-08-29    23828        297      Katou Company   \n",
      "2  INV-00013400003  2016-08-29    36908        300  Katsuragi Company   \n",
      "3  INV-00013400004  2016-08-29    34359         35        Archer Inc.   \n",
      "4  INV-00013400005  2016-08-29    36903        300  Katsuragi Company   \n",
      "\n",
      "   Store_id                  Store_Name            Address  City_Name  \\\n",
      "0      3882  Kwik Shop #579 / Davenport  2805 TELEGRAPH RD  DAVENPORT   \n",
      "1      3882  Kwik Shop #579 / Davenport  2805 TELEGRAPH RD  DAVENPORT   \n",
      "2      3882  Kwik Shop #579 / Davenport  2805 TELEGRAPH RD  DAVENPORT   \n",
      "3      3882  Kwik Shop #579 / Davenport  2805 TELEGRAPH RD  DAVENPORT   \n",
      "4      3882  Kwik Shop #579 / Davenport  2805 TELEGRAPH RD  DAVENPORT   \n",
      "\n",
      "   Zip_Code  County_id County_Name  Bottles_Sold  \n",
      "0     52802         82       Scott             1  \n",
      "1     52802         82       Scott             1  \n",
      "2     52802         82       Scott             1  \n",
      "3     52802         82       Scott             8  \n",
      "4     52802         82       Scott             1  \n",
      "\n"
     ]
    }
   ],
   "source": [
    "# read csv\n",
    "csvInvoices = pd.read_csv(z.open(zipDataCode[0]))\n",
    "print(csvInvoices.info(),end=\"\\n\\n\")\n",
    "print(csvInvoices.describe().T,end=\"\\n\\n\\n\")\n",
    "print(csvInvoices.head(),end=\"\\n\\n\")"
   ]
  },
  {
   "cell_type": "markdown",
   "metadata": {},
   "source": [
    "### 2. items.csv\n",
    "Table of soft drink products with various data"
   ]
  },
  {
   "cell_type": "code",
   "execution_count": 59,
   "metadata": {},
   "outputs": [
    {
     "name": "stdout",
     "output_type": "stream",
     "text": [
      "<class 'pandas.core.frame.DataFrame'>\n",
      "RangeIndex: 4166 entries, 0 to 4165\n",
      "Data columns (total 7 columns):\n",
      " #   Column               Non-Null Count  Dtype  \n",
      "---  ------               --------------  -----  \n",
      " 0   Item_id              4166 non-null   int64  \n",
      " 1   Item_Description     4166 non-null   object \n",
      " 2   Category             4162 non-null   object \n",
      " 3   Pack                 4166 non-null   int64  \n",
      " 4   Bottle_Volume_ml     4166 non-null   float64\n",
      " 5   Bottle_Cost          4166 non-null   float64\n",
      " 6   Bottle_Retail_Price  4163 non-null   float64\n",
      "dtypes: float64(3), int64(2), object(2)\n",
      "memory usage: 228.0+ KB\n",
      "None\n",
      "\n",
      "                      count           mean            std     min       25%  \\\n",
      "Item_id              4166.0  154512.392943  292382.354448  101.00  28799.25   \n",
      "Pack                 4166.0      11.260442      11.913901    1.00      6.00   \n",
      "Bottle_Volume_ml     4166.0     936.963274    6244.415564    0.00    750.00   \n",
      "Bottle_Cost          4166.0       3.648721       9.348512    1.50      2.36   \n",
      "Bottle_Retail_Price  4163.0       5.485763      14.027764    2.45      3.58   \n",
      "\n",
      "                          50%       75%       max  \n",
      "Item_id              43336.50  78591.50  996026.0  \n",
      "Pack                    12.00     12.00     336.0  \n",
      "Bottle_Volume_ml       750.00    750.00  378000.0  \n",
      "Bottle_Cost              2.86      3.61     500.0  \n",
      "Bottle_Retail_Price      4.30      5.42     750.0  \n",
      "\n",
      "\n",
      "   Item_id           Item_Description         Category  Pack  \\\n",
      "0      101    Kanna's Grapefruit Soda  Grapefruit Soda     6   \n",
      "1      102     Alphonse's Fruit Punch      Fruit Punch     6   \n",
      "2      103   Yummy Surstromming Juice              NaN     1   \n",
      "3      107  Tamaki's Watermelon Cream       Cream Soda     6   \n",
      "4      108    Kaori's Grapefruit Soda  Grapefruit Soda     6   \n",
      "\n",
      "   Bottle_Volume_ml  Bottle_Cost  Bottle_Retail_Price  \n",
      "0             750.0         4.32                 6.48  \n",
      "1             800.0         3.33                 5.00  \n",
      "2             750.0        10.30                20.10  \n",
      "3             750.0         4.44                 6.66  \n",
      "4             750.0         3.12                 4.68  \n",
      "\n"
     ]
    }
   ],
   "source": [
    "# read csv\n",
    "csvItems = pd.read_csv(z.open(zipDataCode[1]))\n",
    "print(csvItems.info(),end=\"\\n\\n\")\n",
    "print(csvItems.describe().T,end=\"\\n\\n\\n\")\n",
    "print(csvItems.head(),end=\"\\n\\n\")"
   ]
  },
  {
   "cell_type": "code",
   "execution_count": null,
   "metadata": {},
   "outputs": [],
   "source": []
  },
  {
   "cell_type": "markdown",
   "metadata": {},
   "source": [
    "### 3. reviews.zip\n",
    "The customer reviews have been stored in separate files with the following format...\n",
    "\n",
    "```\n",
    "Customer ID: 6880\n",
    "Invoice ID: INV-01352200015\n",
    "Product Rating: 2/5\n",
    "```"
   ]
  },
  {
   "cell_type": "code",
   "execution_count": 60,
   "metadata": {},
   "outputs": [
    {
     "name": "stdout",
     "output_type": "stream",
     "text": [
      "   Start:  2021-03-26 04:37:29.208104\n",
      "\n",
      "\tCompiling Product Reviews:\t\t\t50000\n",
      "\tCreating dataframe...\n",
      "\n",
      "<class 'pandas.core.frame.DataFrame'>\n",
      "RangeIndex: 50000 entries, 0 to 49999\n",
      "Data columns (total 4 columns):\n",
      " #   Column          Non-Null Count  Dtype \n",
      "---  ------          --------------  ----- \n",
      " 0   Customer_id     50000 non-null  object\n",
      " 1   Filename        50000 non-null  object\n",
      " 2   Invoice_id      50000 non-null  object\n",
      " 3   Product_rating  50000 non-null  object\n",
      "dtypes: object(4)\n",
      "memory usage: 1.5+ MB\n",
      "None\n",
      "\n",
      "                count unique                      top   freq\n",
      "Customer_id     50000   7811                     4870     27\n",
      "Filename        50000  50000  reviews/review22116.dat      1\n",
      "Invoice_id      50000  48696          INV-07914000013      3\n",
      "Product_rating  50000      5                      1/5  10120\n",
      "\n",
      "\n",
      "       Customer_id                 Filename    Invoice_id Product_rating\n",
      "25000        2383  reviews/review00000.dat  S11999300004            2/5\n",
      "42001        9192  reviews/review00001.dat  S05392500012            3/5\n",
      "10001        4847  reviews/review00002.dat  S18588700081            3/5\n",
      "19000        4288  reviews/review00003.dat  S34002200005            1/5\n",
      "19001        1193  reviews/review00004.dat  S10611300016            4/5\n",
      "\n",
      "  >> End:  2021-03-26 04:42:59.227981\n",
      "\n"
     ]
    }
   ],
   "source": [
    "def formatReviewForCSV (f):\n",
    "    dictFile = {'Filename' : f}\n",
    "\n",
    "    with zf.open(f) as fReview:\n",
    "        for line in fReview.readlines():\n",
    "            (key,val) = line.decode(\"utf-8\").strip().split(\":\")\n",
    "            dictFile[(key.strip()).capitalize().replace(\" \", \"_\")] = val.strip()\n",
    "    # close your data file\n",
    "    fReview.close()\n",
    "    \n",
    "    return dictFile\n",
    "\n",
    "##########\n",
    "\n",
    "\n",
    "print((\"Start: \").rjust(10), datetime.now(), end=\"\\n\\n\")\n",
    "print(\"\\tCompiling Product Reviews:\\t\\t\\t\", end='')\n",
    "\n",
    "# TODO: Check timestamp on zip to see if it's changed since last end time to prevent unnecessary rerun?\n",
    "zf = zipfile.ZipFile('reviews.zip')\n",
    "datReviews = [filename for filename in zf.namelist() if filename.endswith(\".dat\") and filename.startswith(\"reviews/review\")]\n",
    "print(len(datReviews))\n",
    "\n",
    "print(\"\\tCreating dataframe...\",end=\"\\n\\n\")\n",
    "csvReviews = pd.DataFrame(index=None)           # Initialize empty dataframe\n",
    "for f in datReviews:\n",
    "    csvReviews = csvReviews.append(formatReviewForCSV(f), ignore_index=True)\n",
    "\n",
    "print(csvReviews.info(),end=\"\\n\\n\")\n",
    "print(csvReviews.describe().T,end=\"\\n\\n\")\n",
    "print(\"\\n\",csvReviews.sort_values(by=['Filename']).head(),end=\"\\n\\n\")\n",
    "print((\">> End: \").rjust(10), datetime.now(),end=\"\\n\\n\")"
   ]
  },
  {
   "cell_type": "code",
   "execution_count": 52,
   "metadata": {},
   "outputs": [
    {
     "data": {
      "image/png": "[encoded data removed]",
      "text/plain": [
       "<Figure size 432x288 with 1 Axes>"
      ]
     },
     "metadata": {
      "needs_background": "light"
     },
     "output_type": "display_data"
    }
   ],
   "source": [
    "plt.figure()\n",
    "plt.title('Product Ratings Summary')\n",
    "(csvReviews['Product_rating']).value_counts().sort_index().plot(kind='bar')\n",
    "plt.xlabel('Ratings')\n",
    "plt.ylabel('Count')\n",
    "plt.show()"
   ]
  },
  {
   "cell_type": "code",
   "execution_count": null,
   "metadata": {},
   "outputs": [],
   "source": []
  },
  {
   "cell_type": "code",
   "execution_count": null,
   "metadata": {},
   "outputs": [],
   "source": []
  },
  {
   "cell_type": "code",
   "execution_count": null,
   "metadata": {},
   "outputs": [],
   "source": []
  },
  {
   "cell_type": "code",
   "execution_count": null,
   "metadata": {},
   "outputs": [],
   "source": []
  },
  {
   "cell_type": "code",
   "execution_count": null,
   "metadata": {},
   "outputs": [],
   "source": [
    "# closing zip files\n",
    "zf.close()\n",
    "z.close()"
   ]
  }
 ],
 "metadata": {
  "kernelspec": {
   "display_name": "Python 3",
   "language": "python",
   "name": "python3"
  },
  "language_info": {
   "codemirror_mode": {
    "name": "ipython",
    "version": 3
   },
   "file_extension": ".py",
   "mimetype": "text/x-python",
   "name": "python",
   "nbconvert_exporter": "python",
   "pygments_lexer": "ipython3",
   "version": "3.8.5"
  }
 },
 "nbformat": 4,
 "nbformat_minor": 4
}
